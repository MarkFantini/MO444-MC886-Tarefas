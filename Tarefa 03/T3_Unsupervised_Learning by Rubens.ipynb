{
  "cells": [
    {
      "attachments": {},
      "cell_type": "markdown",
      "metadata": {
        "id": "dcyc-84ZxZ3X"
      },
      "source": [
        "# **Task \\#3**: Machine Learning MC886/MO444\n",
        "##**Unsupervised Learning and Dimension Reduction Techniques**##"
      ]
    },
    {
      "cell_type": "code",
      "execution_count": 2,
      "metadata": {
        "colab": {
          "base_uri": "https://localhost:8080/"
        },
        "id": "5V-bICd5xKLs",
        "outputId": "3d8cdb88-5eb5-44e5-b995-b4c9e0b4db58"
      },
      "outputs": [
        {
          "name": "stdout",
          "output_type": "stream",
          "text": [
            "Marcelo Antunes Soares Fantini RA 108341\n",
            "Rubens de Castro Pereira RA 217146\n"
          ]
        }
      ],
      "source": [
        "print('Marcelo Antunes Soares Fantini' + ' RA 108341')\n",
        "print('Rubens de Castro Pereira' + ' RA 217146') "
      ]
    },
    {
      "attachments": {},
      "cell_type": "markdown",
      "metadata": {
        "id": "J1V9KDI-xoJ-"
      },
      "source": [
        "## Objective:\n",
        "\n",
        "Explore **Dimension Reduction Techniques** and **Unsupervised Algorithms** alternatives and come up with the best possible model for the problems."
      ]
    },
    {
      "attachments": {},
      "cell_type": "markdown",
      "metadata": {
        "id": "1makPxBqx2Z5"
      },
      "source": [
        "## Dataset\n",
        "\n",
        "The MNIST dataset is a widely used benchmark dataset in the field of machine learning and computer vision. It consists of a collection of 70,000 handwritten digits, with each digit being a grayscale image of size 28x28 pixels. The digits range from 0 to 9 and are evenly distributed in the dataset.\n",
        "\n",
        "Dataset Information:\n",
        "\n",
        "- You should respect the following traininig/test split: 42,000 training examples, and 28,000 test examples.\n",
        "\n",
        "- Each training and test example is assigned to what number is in the sample.\n",
        "\n",
        "- Each row is a separate image. Column 1 is the class label. The remaining columns are pixel numbers (784 total). Each value is the darkness of the pixel (1 to 255).\n",
        "\n",
        "- The data is available at: ([Link of the Dataset](https://drive.google.com/drive/folders/13_nDDMrdIq2pCQU8kAnUQWBefpOAB-71?usp=sharing)): ```digit_recognizer_train.csv``` + ```digit_recognizer_test.csv```\n",
        "\n",
        "\n",
        "More information about the dataset: *Y. Lecun, L. Bottou, Y. Bengio and P. Haffner, \"Gradient-based learning applied to document recognition,\" in Proceedings of the IEEE, vol. 86, no. 11, pp. 2278-2324, Nov. 1998, doi: 10.1109/5.726791.https://ieeexplore.ieee.org/document/726791*"
      ]
    },
    {
      "cell_type": "code",
      "execution_count": 5,
      "metadata": {
        "colab": {
          "base_uri": "https://localhost:8080/",
          "height": 255
        },
        "id": "C_UmKrLcxkjJ",
        "outputId": "8fb482b3-0ade-4206-cac6-bd078d5de8c4"
      },
      "outputs": [
        {
          "data": {
            "text/html": [
              "<div>\n",
              "<style scoped>\n",
              "    .dataframe tbody tr th:only-of-type {\n",
              "        vertical-align: middle;\n",
              "    }\n",
              "\n",
              "    .dataframe tbody tr th {\n",
              "        vertical-align: top;\n",
              "    }\n",
              "\n",
              "    .dataframe thead th {\n",
              "        text-align: right;\n",
              "    }\n",
              "</style>\n",
              "<table border=\"1\" class=\"dataframe\">\n",
              "  <thead>\n",
              "    <tr style=\"text-align: right;\">\n",
              "      <th></th>\n",
              "      <th>label</th>\n",
              "      <th>pixel0</th>\n",
              "      <th>pixel1</th>\n",
              "      <th>pixel2</th>\n",
              "      <th>pixel3</th>\n",
              "      <th>pixel4</th>\n",
              "      <th>pixel5</th>\n",
              "      <th>pixel6</th>\n",
              "      <th>pixel7</th>\n",
              "      <th>pixel8</th>\n",
              "      <th>...</th>\n",
              "      <th>pixel774</th>\n",
              "      <th>pixel775</th>\n",
              "      <th>pixel776</th>\n",
              "      <th>pixel777</th>\n",
              "      <th>pixel778</th>\n",
              "      <th>pixel779</th>\n",
              "      <th>pixel780</th>\n",
              "      <th>pixel781</th>\n",
              "      <th>pixel782</th>\n",
              "      <th>pixel783</th>\n",
              "    </tr>\n",
              "  </thead>\n",
              "  <tbody>\n",
              "    <tr>\n",
              "      <th>30052</th>\n",
              "      <td>7</td>\n",
              "      <td>0</td>\n",
              "      <td>0</td>\n",
              "      <td>0</td>\n",
              "      <td>0</td>\n",
              "      <td>0</td>\n",
              "      <td>0</td>\n",
              "      <td>0</td>\n",
              "      <td>0</td>\n",
              "      <td>0</td>\n",
              "      <td>...</td>\n",
              "      <td>0</td>\n",
              "      <td>0</td>\n",
              "      <td>0</td>\n",
              "      <td>0</td>\n",
              "      <td>0</td>\n",
              "      <td>0</td>\n",
              "      <td>0</td>\n",
              "      <td>0</td>\n",
              "      <td>0</td>\n",
              "      <td>0</td>\n",
              "    </tr>\n",
              "    <tr>\n",
              "      <th>37762</th>\n",
              "      <td>2</td>\n",
              "      <td>0</td>\n",
              "      <td>0</td>\n",
              "      <td>0</td>\n",
              "      <td>0</td>\n",
              "      <td>0</td>\n",
              "      <td>0</td>\n",
              "      <td>0</td>\n",
              "      <td>0</td>\n",
              "      <td>0</td>\n",
              "      <td>...</td>\n",
              "      <td>0</td>\n",
              "      <td>0</td>\n",
              "      <td>0</td>\n",
              "      <td>0</td>\n",
              "      <td>0</td>\n",
              "      <td>0</td>\n",
              "      <td>0</td>\n",
              "      <td>0</td>\n",
              "      <td>0</td>\n",
              "      <td>0</td>\n",
              "    </tr>\n",
              "    <tr>\n",
              "      <th>30578</th>\n",
              "      <td>1</td>\n",
              "      <td>0</td>\n",
              "      <td>0</td>\n",
              "      <td>0</td>\n",
              "      <td>0</td>\n",
              "      <td>0</td>\n",
              "      <td>0</td>\n",
              "      <td>0</td>\n",
              "      <td>0</td>\n",
              "      <td>0</td>\n",
              "      <td>...</td>\n",
              "      <td>0</td>\n",
              "      <td>0</td>\n",
              "      <td>0</td>\n",
              "      <td>0</td>\n",
              "      <td>0</td>\n",
              "      <td>0</td>\n",
              "      <td>0</td>\n",
              "      <td>0</td>\n",
              "      <td>0</td>\n",
              "      <td>0</td>\n",
              "    </tr>\n",
              "    <tr>\n",
              "      <th>23376</th>\n",
              "      <td>1</td>\n",
              "      <td>0</td>\n",
              "      <td>0</td>\n",
              "      <td>0</td>\n",
              "      <td>0</td>\n",
              "      <td>0</td>\n",
              "      <td>0</td>\n",
              "      <td>0</td>\n",
              "      <td>0</td>\n",
              "      <td>0</td>\n",
              "      <td>...</td>\n",
              "      <td>0</td>\n",
              "      <td>0</td>\n",
              "      <td>0</td>\n",
              "      <td>0</td>\n",
              "      <td>0</td>\n",
              "      <td>0</td>\n",
              "      <td>0</td>\n",
              "      <td>0</td>\n",
              "      <td>0</td>\n",
              "      <td>0</td>\n",
              "    </tr>\n",
              "    <tr>\n",
              "      <th>31304</th>\n",
              "      <td>1</td>\n",
              "      <td>0</td>\n",
              "      <td>0</td>\n",
              "      <td>0</td>\n",
              "      <td>0</td>\n",
              "      <td>0</td>\n",
              "      <td>0</td>\n",
              "      <td>0</td>\n",
              "      <td>0</td>\n",
              "      <td>0</td>\n",
              "      <td>...</td>\n",
              "      <td>0</td>\n",
              "      <td>0</td>\n",
              "      <td>0</td>\n",
              "      <td>0</td>\n",
              "      <td>0</td>\n",
              "      <td>0</td>\n",
              "      <td>0</td>\n",
              "      <td>0</td>\n",
              "      <td>0</td>\n",
              "      <td>0</td>\n",
              "    </tr>\n",
              "  </tbody>\n",
              "</table>\n",
              "<p>5 rows × 785 columns</p>\n",
              "</div>"
            ],
            "text/plain": [
              "       label  pixel0  pixel1  pixel2  pixel3  pixel4  pixel5  pixel6  pixel7  \\\n",
              "30052      7       0       0       0       0       0       0       0       0   \n",
              "37762      2       0       0       0       0       0       0       0       0   \n",
              "30578      1       0       0       0       0       0       0       0       0   \n",
              "23376      1       0       0       0       0       0       0       0       0   \n",
              "31304      1       0       0       0       0       0       0       0       0   \n",
              "\n",
              "       pixel8  ...  pixel774  pixel775  pixel776  pixel777  pixel778  \\\n",
              "30052       0  ...         0         0         0         0         0   \n",
              "37762       0  ...         0         0         0         0         0   \n",
              "30578       0  ...         0         0         0         0         0   \n",
              "23376       0  ...         0         0         0         0         0   \n",
              "31304       0  ...         0         0         0         0         0   \n",
              "\n",
              "       pixel779  pixel780  pixel781  pixel782  pixel783  \n",
              "30052         0         0         0         0         0  \n",
              "37762         0         0         0         0         0  \n",
              "30578         0         0         0         0         0  \n",
              "23376         0         0         0         0         0  \n",
              "31304         0         0         0         0         0  \n",
              "\n",
              "[5 rows x 785 columns]"
            ]
          },
          "execution_count": 5,
          "metadata": {},
          "output_type": "execute_result"
        }
      ],
      "source": [
        "import numpy as np\n",
        "import pandas as pd\n",
        "import seaborn as sns\n",
        "import plotly.express as px\n",
        "import matplotlib.pyplot as plt\n",
        "\n",
        "from PIL import Image\n",
        "\n",
        "## ------ Read Dataset ----- ##\n",
        "df = pd.read_csv('data/digit_recognizer_train.csv')\n",
        "df = df.sample(frac=1)\n",
        "df.head(5)"
      ]
    },
    {
      "cell_type": "code",
      "execution_count": 4,
      "metadata": {
        "colab": {
          "base_uri": "https://localhost:8080/",
          "height": 403
        },
        "id": "ftr6evRQz1-L",
        "outputId": "3c10efe2-183f-4fc6-aabf-7db1019bad4f"
      },
      "outputs": [
        {
          "data": {
            "image/png": "[encoded data removed]",
            "text/plain": [
              "<Figure size 1000x500 with 40 Axes>"
            ]
          },
          "metadata": {},
          "output_type": "display_data"
        }
      ],
      "source": [
        "## ------ Plot Data ----- ##\n",
        "\n",
        "fig, axes = plt.subplots(4, 10, figsize=(10,5), subplot_kw={'xticks':[], 'yticks':[]})\n",
        "for i, ax in enumerate(axes.flat):\n",
        "    ax.imshow(df.iloc[i][1:].values.reshape(28,28), cmap='binary', interpolation='nearest')"
      ]
    },
    {
      "attachments": {},
      "cell_type": "markdown",
      "metadata": {
        "id": "j46zvSwzz9oH"
      },
      "source": [
        "## 1. Dimensionality Reduction Techniques\n",
        "\n",
        "Analyze the distribution by plotting th embeddings generated with the aid of dimensionality reduction techniques.\n",
        "\n",
        "*Obs: Remember to normalize the data* and *test differents hyperparameters* "
      ]
    },
    {
      "attachments": {},
      "cell_type": "markdown",
      "metadata": {
        "id": "0E5jKSmQz9o2"
      },
      "source": [
        "(0.5 point) Plot a 2D graph using the [PCA](https://scikit-learn.org/stable/modules/generated/sklearn.decomposition.PCA.html) algorithm."
      ]
    },
    {
      "cell_type": "code",
      "execution_count": null,
      "metadata": {
        "id": "ltCYyiD74mUq"
      },
      "outputs": [],
      "source": [
        "# TODO: Principal Component Analysis (PCA)"
      ]
    },
    {
      "attachments": {},
      "cell_type": "markdown",
      "metadata": {
        "id": "-qKXvlfL1DUe"
      },
      "source": [
        "(0.5 point) Plot a 2D graph using the [t-SNE](https://scikit-learn.org/stable/modules/generated/sklearn.manifold.TSNE.html) algorithm."
      ]
    },
    {
      "cell_type": "code",
      "execution_count": null,
      "metadata": {
        "id": "QG6rO1uT4rSy"
      },
      "outputs": [],
      "source": [
        "# TODO: T-distributed Stochastic Neighbor Embedding (t-SNE)\n",
        "# What, Why and How of t-SNE: https://towardsdatascience.com/what-why-and-how-of-t-sne-1f78d13e224d\n",
        "\n",
        " \n",
        " \n",
        " \n",
        " \n",
        "  \n"
      ]
    },
    {
      "attachments": {},
      "cell_type": "markdown",
      "metadata": {
        "id": "G-7s2uX-1DXC"
      },
      "source": [
        "(0.5 point) Plot a 2D graph using a combination of PCA + TSNE"
      ]
    },
    {
      "cell_type": "code",
      "execution_count": null,
      "metadata": {
        "id": "8vMMnXPT5qQp"
      },
      "outputs": [],
      "source": [
        "# TODO: PCA + t-SNE"
      ]
    },
    {
      "attachments": {},
      "cell_type": "markdown",
      "metadata": {
        "id": "Otp68xcg1DZm"
      },
      "source": [
        "(0.25 point) Plot a 3D graph using the best representation founded."
      ]
    },
    {
      "cell_type": "code",
      "execution_count": null,
      "metadata": {
        "id": "YDSWTUzB09Aj"
      },
      "outputs": [],
      "source": [
        "# TODO: 3D Graph"
      ]
    },
    {
      "attachments": {},
      "cell_type": "markdown",
      "metadata": {
        "id": "g5fZ8fJA6mD-"
      },
      "source": [
        "**(1.75 point) Questions:**\n",
        "- What is the best representation, and why?\n",
        "- Do the combination of techniques help improve the results?\n",
        "- Did adding another dimension help enhance the performance?\n",
        "- How can we use this knowledge to decide which model to train?"
      ]
    },
    {
      "attachments": {},
      "cell_type": "markdown",
      "metadata": {
        "id": "WwcXwamBczG4"
      },
      "source": [
        "(Optional) Additionally, you can visually explore the data and its distribution by plotting the original image in a 2D space."
      ]
    },
    {
      "cell_type": "code",
      "execution_count": null,
      "metadata": {
        "id": "zLT-CXJqctVx"
      },
      "outputs": [],
      "source": [
        "def plot_images(best_embedding, images, width=2000, height=1000, max_dim=10):\n",
        "  '''\n",
        "    best_embedding : np.array\n",
        "      Best representation found\n",
        "\n",
        "    images : np.array\n",
        "      Original Images  \n",
        "  '''\n",
        "  \n",
        "  tx, ty = best_embedding[:, 0], best_embedding[:, 1]\n",
        "  tx = (tx-np.min(tx)) / (np.max(tx) - np.min(tx))\n",
        "  ty = (ty-np.min(ty)) / (np.max(ty) - np.min(ty))\n",
        "\n",
        "  full_image = Image.new('RGBA', (width, height))\n",
        "\n",
        "  for data, x, y in zip(images, tx, ty):\n",
        "    tile = Image.fromarray(np.uint8(data.reshape(28,28)))\n",
        "    full_image.paste(tile, (int((width-max_dim)*x), int((height-max_dim)*y)), mask=tile.convert('RGBA'))\n",
        "\n",
        "  plt.figure(figsize = (16,12))\n",
        "  plt.imshow(full_image)\n",
        "  plt.show()"
      ]
    },
    {
      "cell_type": "code",
      "execution_count": null,
      "metadata": {
        "id": "2ZTh3ZO6c9x5"
      },
      "outputs": [],
      "source": [
        "## Plot the original images using two arrays: \n",
        "#    best_embedding with the components (n_components=2) from either PCA or t-SNE;\n",
        "#    images with the original data. Both arrays should correspond to the same data.\n",
        "\n",
        "#plot_images(best_embedding, df)"
      ]
    },
    {
      "attachments": {},
      "cell_type": "markdown",
      "metadata": {
        "id": "79qT-6f9C262"
      },
      "source": [
        "(Optional) Besides this algorithms, another popular algorithm is Uniform Manifold Approximation and Projection ([UMAP](https://umap-learn.readthedocs.io/en/latest/)). Plot a 2D graph using this technique.\n",
        "\n",
        "Obs: *here is a great video that explains this method and the differences between it and t-SNE*. \n",
        "\n",
        "Link: https://www.youtube.com/watch?v=eN0wFzBA4Sc&ab_channel=StatQuestwithJoshStarmer."
      ]
    },
    {
      "cell_type": "code",
      "execution_count": null,
      "metadata": {
        "id": "QkBy_Wm3ZiYn"
      },
      "outputs": [],
      "source": [
        "!pip install umap-learn -q"
      ]
    },
    {
      "cell_type": "code",
      "execution_count": null,
      "metadata": {
        "id": "c-w0Bnv4GFMn"
      },
      "outputs": [],
      "source": [
        "# Uniform Manifold Approximation and Projection (UMAP)"
      ]
    },
    {
      "attachments": {},
      "cell_type": "markdown",
      "metadata": {
        "id": "xXT7kwVW6xbe"
      },
      "source": [
        "## 2. Unsupervised Learning\n",
        "\n",
        "The main idea of this section is to train an unsupervised learning algorithm to identify the possible groups present in the MNIST dataset. "
      ]
    },
    {
      "attachments": {},
      "cell_type": "markdown",
      "metadata": {
        "id": "K0MlXdJMVH_X"
      },
      "source": [
        "(0.25 point) Train a KMeans algorithm using the best representation found in the previous section and plot the resulting clusters. Compare with the original representation.\n",
        "\n",
        "*Obs: Use ``` n_cluster = 10 ``` for the KMeans algorithm.*"
      ]
    },
    {
      "cell_type": "code",
      "execution_count": null,
      "metadata": {
        "id": "8QC36gU3qt81"
      },
      "outputs": [],
      "source": [
        "# TODO: KMeans with a dimension reduction technique."
      ]
    },
    {
      "attachments": {},
      "cell_type": "markdown",
      "metadata": {
        "id": "GM7V3_zKgw1Z"
      },
      "source": [
        "(0.5 points) Choose the best ```n_cluster``` using the Elbow Method. Plot the graph to assist."
      ]
    },
    {
      "cell_type": "code",
      "execution_count": null,
      "metadata": {
        "id": "Ejap-asTtDaw"
      },
      "outputs": [],
      "source": [
        "# TODO: Elbow Method and 2D plot"
      ]
    },
    {
      "attachments": {},
      "cell_type": "markdown",
      "metadata": {
        "id": "GKN3qVNbg4hD"
      },
      "source": [
        "(0.5 points) Choose the best ```n_cluster``` using the Silhouette Analysis. Plot the silhouette and the average score."
      ]
    },
    {
      "cell_type": "code",
      "execution_count": null,
      "metadata": {
        "id": "A0rKk3Za9YCi"
      },
      "outputs": [],
      "source": [
        "# TODO: Silhouette Method -- Average Score and plot"
      ]
    },
    {
      "attachments": {},
      "cell_type": "markdown",
      "metadata": {
        "id": "y_ESW9tQW2cr"
      },
      "source": [
        "(0.25 points) Train a different clustering algorithm from the [scikit-learn library](https://scikit-learn.org/stable/modules/clustering.html) and compare its results with those of KMeans and the original data distribution."
      ]
    },
    {
      "cell_type": "code",
      "execution_count": null,
      "metadata": {
        "id": "bqBJaK50W1xk"
      },
      "outputs": [],
      "source": [
        "# TODO: Unsupervised Algorithm of your choose"
      ]
    },
    {
      "attachments": {},
      "cell_type": "markdown",
      "metadata": {
        "id": "cDiiMI67B9H5"
      },
      "source": [
        "**(2 points) Questions:**\n",
        "\n",
        "- Did KMeans provide good separation (clusters) when compared to the original distribution? Why?\n",
        "- Did the Elbow and Silhouette methods suggest the same number of clusters? Did these techniques suggest the same n_cluster as the original dataset?\n",
        "- If you did not know the number of classes in the MNIST dataset, which method would you use and why? Is the suggested number of clusters the same as the number of classes in the dataset? Why do you think it is the same or different?\n",
        "- When compared to other algorithms, did KMeans perform better? How can different clustering techniques be compared?"
      ]
    },
    {
      "attachments": {},
      "cell_type": "markdown",
      "metadata": {
        "id": "yRXUEyMgl8Y7"
      },
      "source": [
        "## 3. Classification with PCA\n",
        "\n",
        "PCA can be used in combination with a supervised learning model."
      ]
    },
    {
      "attachments": {},
      "cell_type": "markdown",
      "metadata": {
        "id": "dzOj09ChiLLw"
      },
      "source": [
        "(0.25 points) Baseline Model: Understanding the machine learning pipeline, explore a supervised model with the MNIST dataset.\n",
        "\n",
        "obs: *Remember to split and normalize the data*"
      ]
    },
    {
      "cell_type": "code",
      "execution_count": null,
      "metadata": {
        "id": "NaUWCRe3DojJ"
      },
      "outputs": [],
      "source": [
        "# TODO: Baseline Model"
      ]
    },
    {
      "attachments": {},
      "cell_type": "markdown",
      "metadata": {
        "id": "R_EHMRRfidga"
      },
      "source": [
        "(0.5 points) PCA model: Redo the experiment with the inclusion of PCA. Plot the accuracy (or other classification metric) against ```n_components``` and analyze the model."
      ]
    },
    {
      "cell_type": "code",
      "execution_count": null,
      "metadata": {
        "id": "zdWCa3L7eJFI"
      },
      "outputs": [],
      "source": [
        "# TODO: Baseline Model with PCA"
      ]
    },
    {
      "attachments": {},
      "cell_type": "markdown",
      "metadata": {
        "id": "jK_u97WiFnZV"
      },
      "source": [
        "(0.25 points) Evaluate both the baseline model and the PCA model using the test set. Display the confusion matrices for both cases."
      ]
    },
    {
      "cell_type": "code",
      "execution_count": null,
      "metadata": {
        "id": "1g9R0LV1FmxX"
      },
      "outputs": [],
      "source": [
        "# TODO: Evaluate models in Test split"
      ]
    },
    {
      "attachments": {},
      "cell_type": "markdown",
      "metadata": {
        "id": "ArwRY8ZkFWlb"
      },
      "source": [
        "**(2 points) Questions:**\n",
        "\n",
        "- Which model was used? What was the best result achieved without using PCA?\n",
        "- What are your conclusions about the Baseline model?\n",
        "- How did you define the best model for both approaches?\n",
        "- Did the accuracy improve when using the PCA model?\n",
        "- What are the advantages and disadvantages of using PCA on this dataset?\n"
      ]
    },
    {
      "attachments": {},
      "cell_type": "markdown",
      "metadata": {
        "id": "8z78vzLrNilW"
      },
      "source": [
        "## Deadline\n",
        "\n",
        "Wednesday, May 22, 11:59 pm. \n",
        "\n",
        "Penalty policy for late submission: You are not encouraged to submit your assignment after due date. However, in case you do, your grade will be penalized as follows:\n",
        "- May 23, 11:59 pm : grade * 0.75\n",
        "- May 24, 11:59 pm : grade * 0.5\n",
        "- May 25, 11:59 pm : grade * 0.25\n"
      ]
    },
    {
      "attachments": {},
      "cell_type": "markdown",
      "metadata": {
        "id": "wlKyVcM5NvKz"
      },
      "source": [
        "## Submission\n",
        "\n",
        "On Google Classroom, submit your Jupyter Notebook (in Portuguese or English).\n",
        "\n",
        "**This activity is NOT individual, it must be done in pairs (two-person group).**"
      ]
    }
  ],
  "metadata": {
    "colab": {
      "provenance": []
    },
    "kernelspec": {
      "display_name": "Python 3",
      "name": "python3"
    },
    "language_info": {
      "codemirror_mode": {
        "name": "ipython",
        "version": 3
      },
      "file_extension": ".py",
      "mimetype": "text/x-python",
      "name": "python",
      "nbconvert_exporter": "python",
      "pygments_lexer": "ipython3",
      "version": "3.9.5"
    }
  },
  "nbformat": 4,
  "nbformat_minor": 0
}
